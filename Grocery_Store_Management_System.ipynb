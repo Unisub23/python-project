{
  "nbformat": 4,
  "nbformat_minor": 0,
  "metadata": {
    "colab": {
      "provenance": [],
      "include_colab_link": true
    },
    "kernelspec": {
      "name": "python3",
      "display_name": "Python 3"
    },
    "language_info": {
      "name": "python"
    }
  },
  "cells": [
    {
      "cell_type": "markdown",
      "metadata": {
        "id": "view-in-github",
        "colab_type": "text"
      },
      "source": [
        "<a href=\"https://colab.research.google.com/github/Unisub23/python-project/blob/main/Grocery_Store_Management_System.ipynb\" target=\"_parent\"><img src=\"https://colab.research.google.com/assets/colab-badge.svg\" alt=\"Open In Colab\"/></a>"
      ]
    },
    {
      "cell_type": "code",
      "execution_count": null,
      "metadata": {
        "id": "veVO_SYFNqoM"
      },
      "outputs": [],
      "source": [
        "!pip install gradio -q\n"
      ]
    },
    {
      "cell_type": "code",
      "source": [
        "import gradio as gr\n",
        "import json, os\n",
        "\n",
        "DATA_FILE = \"grocery_store.json\"\n",
        "\n",
        "# ---- Load & Save ---- #\n",
        "def save_data(data):\n",
        "    with open(DATA_FILE, \"w\") as f:\n",
        "        json.dump(data, f, indent=4)\n",
        "\n",
        "def load_data():\n",
        "    if os.path.exists(DATA_FILE):\n",
        "        with open(DATA_FILE, \"r\") as f:\n",
        "            data = json.load(f)\n",
        "            if data:\n",
        "                return data\n",
        "\n",
        "    # Default grocery items if file is empty\n",
        "    default_data = {\n",
        "        \"101\": {\"name\": \"Rice\", \"price\": 50, \"qty\": 100},\n",
        "        \"102\": {\"name\": \"Wheat\", \"price\": 40, \"qty\": 80},\n",
        "        \"103\": {\"name\": \"Sugar\", \"price\": 45, \"qty\": 60},\n",
        "        \"104\": {\"name\": \"Milk\", \"price\": 25, \"qty\": 120},\n",
        "        \"105\": {\"name\": \"Oil\", \"price\": 120, \"qty\": 50},\n",
        "        \"106\": {\"name\": \"Salt\", \"price\": 20, \"qty\": 200},\n",
        "        \"107\": {\"name\": \"Tea\", \"price\": 150, \"qty\": 40},\n",
        "        \"108\": {\"name\": \"Coffee\", \"price\": 180, \"qty\": 35},\n",
        "        \"109\": {\"name\": \"Eggs (Dozen)\", \"price\": 60, \"qty\": 90},\n",
        "        \"110\": {\"name\": \"Butter\", \"price\": 250, \"qty\": 30},\n",
        "    }\n",
        "    save_data(default_data)\n",
        "    return default_data\n",
        "\n",
        "# ---- Core Functions ---- #\n",
        "def display_products():\n",
        "    data = load_data()\n",
        "    if not data:\n",
        "        return \"⚠️ No products available!\"\n",
        "    rows = [\"ID | Name | Price | Qty\"]\n",
        "    for pid, d in data.items():\n",
        "        rows.append(f\"{pid} | {d['name']} | ₹{d['price']} | {d['qty']}\")\n",
        "    return \"\\n\".join(rows)\n",
        "\n",
        "def add_product(pid, name, price, qty):\n",
        "    data = load_data()\n",
        "    if pid in data:\n",
        "        return \"❌ Product ID already exists!\", display_products()\n",
        "    data[pid] = {\"name\": name, \"price\": float(price), \"qty\": int(qty)}\n",
        "    save_data(data)\n",
        "    return f\"✅ Added {name} successfully!\", display_products()\n",
        "\n",
        "def update_product(pid, name, price, qty):\n",
        "    data = load_data()\n",
        "    if pid not in data:\n",
        "        return \"❌ Product not found!\", display_products()\n",
        "    if name: data[pid][\"name\"] = name\n",
        "    if price: data[pid][\"price\"] = float(price)\n",
        "    if qty: data[pid][\"qty\"] = int(qty)\n",
        "    save_data(data)\n",
        "    return f\"✅ Updated {pid}\", display_products()\n",
        "\n",
        "def delete_product(pid):\n",
        "    data = load_data()\n",
        "    if pid not in data:\n",
        "        return \"❌ Product not found!\", display_products()\n",
        "    del data[pid]\n",
        "    save_data(data)\n",
        "    return f\"✅ Deleted {pid}\", display_products()\n",
        "\n",
        "def purchase_product(pid, qty):\n",
        "    data = load_data()\n",
        "    if pid not in data:\n",
        "        return \"❌ Product not found!\", display_products()\n",
        "    qty = int(qty)\n",
        "    if qty > data[pid][\"qty\"]:\n",
        "        return \"❌ Not enough stock!\", display_products()\n",
        "    total = qty * data[pid][\"price\"]\n",
        "    data[pid][\"qty\"] -= qty\n",
        "    save_data(data)\n",
        "    return f\"✅ Purchased {qty} x {data[pid]['name']} | Bill = ₹{total}\", display_products()\n",
        "\n",
        "# ---- Gradio UI ---- #\n",
        "with gr.Blocks() as demo:\n",
        "    gr.Markdown(\"## 🛒 Grocery Store Management System\")\n",
        "\n",
        "    with gr.Tab(\"📦 Show Inventory\"):\n",
        "        out_show = gr.Textbox(label=\"All Products\", lines=15, value=display_products())  # auto load\n",
        "        btn_show = gr.Button(\"Refresh Inventory\")\n",
        "        btn_show.click(display_products, outputs=out_show)\n",
        "\n",
        "    with gr.Tab(\"➕ Add Product\"):\n",
        "        pid = gr.Textbox(label=\"Product ID\")\n",
        "        name = gr.Textbox(label=\"Name\")\n",
        "        price = gr.Number(label=\"Price\")\n",
        "        qty = gr.Number(label=\"Quantity\")\n",
        "        out1 = gr.Textbox(label=\"Status\")\n",
        "        out2 = gr.Textbox(label=\"Updated Inventory\", lines=10)\n",
        "        btn1 = gr.Button(\"Add Product\")\n",
        "        btn1.click(add_product, inputs=[pid, name, price, qty], outputs=[out1, out2])\n",
        "\n",
        "    with gr.Tab(\"✏️ Update Product\"):\n",
        "        pid_u = gr.Textbox(label=\"Product ID\")\n",
        "        name_u = gr.Textbox(label=\"New Name (optional)\")\n",
        "        price_u = gr.Number(label=\"New Price (optional)\")\n",
        "        qty_u = gr.Number(label=\"New Quantity (optional)\")\n",
        "        out3 = gr.Textbox(label=\"Status\")\n",
        "        out4 = gr.Textbox(label=\"Updated Inventory\", lines=10)\n",
        "        btn2 = gr.Button(\"Update Product\")\n",
        "        btn2.click(update_product, inputs=[pid_u, name_u, price_u, qty_u], outputs=[out3, out4])\n",
        "\n",
        "    with gr.Tab(\"🗑 Delete Product\"):\n",
        "        pid_d = gr.Textbox(label=\"Product ID\")\n",
        "        out5 = gr.Textbox(label=\"Status\")\n",
        "        out6 = gr.Textbox(label=\"Updated Inventory\", lines=10)\n",
        "        btn3 = gr.Button(\"Delete Product\")\n",
        "        btn3.click(delete_product, inputs=pid_d, outputs=[out5, out6])\n",
        "\n",
        "    with gr.Tab(\"🛒 Purchase Product\"):\n",
        "        pid2 = gr.Textbox(label=\"Product ID\")\n",
        "        qty2 = gr.Number(label=\"Quantity\")\n",
        "        out7 = gr.Textbox(label=\"Status\")\n",
        "        out8 = gr.Textbox(label=\"Updated Inventory\", lines=10)\n",
        "        btn4 = gr.Button(\"Purchase\")\n",
        "        btn4.click(purchase_product, inputs=[pid2, qty2], outputs=[out7, out8])\n",
        "\n",
        "demo.launch()\n"
      ],
      "metadata": {
        "colab": {
          "base_uri": "https://localhost:8080/",
          "height": 645
        },
        "id": "6LkebSYxPObb",
        "outputId": "4480e35f-3457-4e18-dc58-c1d747b1f444"
      },
      "execution_count": 3,
      "outputs": [
        {
          "output_type": "stream",
          "name": "stdout",
          "text": [
            "It looks like you are running Gradio on a hosted Jupyter notebook, which requires `share=True`. Automatically setting `share=True` (you can turn this off by setting `share=False` in `launch()` explicitly).\n",
            "\n",
            "Colab notebook detected. To show errors in colab notebook, set debug=True in launch()\n",
            "* Running on public URL: https://1ff3898c91dbcee02c.gradio.live\n",
            "\n",
            "This share link expires in 1 week. For free permanent hosting and GPU upgrades, run `gradio deploy` from the terminal in the working directory to deploy to Hugging Face Spaces (https://huggingface.co/spaces)\n"
          ]
        },
        {
          "output_type": "display_data",
          "data": {
            "text/plain": [
              "<IPython.core.display.HTML object>"
            ],
            "text/html": [
              "<div><iframe src=\"https://1ff3898c91dbcee02c.gradio.live\" width=\"100%\" height=\"500\" allow=\"autoplay; camera; microphone; clipboard-read; clipboard-write;\" frameborder=\"0\" allowfullscreen></iframe></div>"
            ]
          },
          "metadata": {}
        },
        {
          "output_type": "execute_result",
          "data": {
            "text/plain": []
          },
          "metadata": {},
          "execution_count": 3
        }
      ]
    }
  ]
}